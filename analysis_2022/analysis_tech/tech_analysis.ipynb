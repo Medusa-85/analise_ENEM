{
 "cells": [
  {
   "cell_type": "code",
   "execution_count": 17,
   "metadata": {},
   "outputs": [
    {
     "name": "stdout",
     "output_type": "stream",
     "text": [
      "<class 'pandas.core.frame.DataFrame'>\n",
      "RangeIndex: 3476105 entries, 0 to 3476104\n",
      "Data columns (total 37 columns):\n",
      " #   Column                  Dtype  \n",
      "---  ------                  -----  \n",
      " 0   Unnamed: 0              int64  \n",
      " 1   NU_ANO                  int64  \n",
      " 2   TP_FAIXA_ETARIA         int64  \n",
      " 3   TP_SEXO                 object \n",
      " 4   TP_ESTADO_CIVIL         int64  \n",
      " 5   TP_COR_RACA             int64  \n",
      " 6   TP_NACIONALIDADE        int64  \n",
      " 7   TP_ST_CONCLUSAO         int64  \n",
      " 8   TP_ANO_CONCLUIU         int64  \n",
      " 9   TP_ESCOLA               int64  \n",
      " 10  IN_TREINEIRO            int64  \n",
      " 11  NO_MUNICIPIO_ESC        object \n",
      " 12  SG_UF_ESC               object \n",
      " 13  TP_DEPENDENCIA_ADM_ESC  float64\n",
      " 14  TP_LOCALIZACAO_ESC      float64\n",
      " 15  TP_PRESENCA_CN          int64  \n",
      " 16  TP_PRESENCA_CH          int64  \n",
      " 17  TP_PRESENCA_LC          int64  \n",
      " 18  TP_PRESENCA_MT          int64  \n",
      " 19  NU_NOTA_CN              float64\n",
      " 20  NU_NOTA_CH              float64\n",
      " 21  NU_NOTA_LC              float64\n",
      " 22  NU_NOTA_MT              float64\n",
      " 23  TP_STATUS_REDACAO       float64\n",
      " 24  NU_NOTA_REDACAO         float64\n",
      " 25  Q001                    object \n",
      " 26  Q002                    object \n",
      " 27  Q003                    object \n",
      " 28  Q004                    object \n",
      " 29  Q005                    int64  \n",
      " 30  Q006                    object \n",
      " 31  Q008                    object \n",
      " 32  Q010                    object \n",
      " 33  Q022                    object \n",
      " 34  Q024                    object \n",
      " 35  Q025                    object \n",
      " 36  MEDIA_GERAL             float64\n",
      "dtypes: float64(9), int64(15), object(13)\n",
      "memory usage: 981.3+ MB\n"
     ]
    }
   ],
   "source": [
    "import pandas as pd\n",
    "import numpy as np\n",
    "\n",
    "df = pd.read_csv('../../data/enem_2022_v2.csv', low_memory=False, encoding=\"ISO-8859-1\")\n",
    "\n",
    "df.info(verbose=True)"
   ]
  },
  {
   "cell_type": "markdown",
   "metadata": {},
   "source": [
    "# Questão 025 - \"Na sua residência tem acesso à Internet?\"\n",
    "    A\tNão.\n",
    "    B\tSim.\n"
   ]
  },
  {
   "cell_type": "code",
   "execution_count": 18,
   "metadata": {},
   "outputs": [
    {
     "data": {
      "text/plain": [
       "B. Sim    3149732\n",
       "A. Não     326373\n",
       "Name: Q025, dtype: int64"
      ]
     },
     "execution_count": 18,
     "metadata": {},
     "output_type": "execute_result"
    }
   ],
   "source": [
    "df['Q025'] = df['Q025'].apply(lambda x: 'A. Não' if x == 'A' else 'B. Sim')\n",
    "\n",
    "df_count = df['Q025'].value_counts()\n",
    "\n",
    "df_count\n"
   ]
  },
  {
   "cell_type": "code",
   "execution_count": 20,
   "metadata": {},
   "outputs": [
    {
     "data": {
      "image/png": "[encoded data removed]",
      "text/plain": [
       "<Figure size 432x288 with 1 Axes>"
      ]
     },
     "metadata": {},
     "output_type": "display_data"
    }
   ],
   "source": [
    "import matplotlib.pyplot as plt\n",
    "\n",
    "fig, ax = plt.subplots()\n",
    "ax.pie(df_count, autopct='%.1f%%', startangle=90, pctdistance=0.7)\n",
    "ax.axis('equal')\n",
    "\n",
    "plt.title('Distribuição por Cor/Raça')\n",
    "\n",
    "ax.legend(df_count.index, title='Categorias', loc='center left', bbox_to_anchor=(0.8, 0.5))\n",
    "\n",
    "plt.show()"
   ]
  },
  {
   "cell_type": "code",
   "execution_count": 23,
   "metadata": {},
   "outputs": [
    {
     "data": {
      "text/html": [
       "<div>\n",
       "<style scoped>\n",
       "    .dataframe tbody tr th:only-of-type {\n",
       "        vertical-align: middle;\n",
       "    }\n",
       "\n",
       "    .dataframe tbody tr th {\n",
       "        vertical-align: top;\n",
       "    }\n",
       "\n",
       "    .dataframe thead th {\n",
       "        text-align: right;\n",
       "    }\n",
       "</style>\n",
       "<table border=\"1\" class=\"dataframe\">\n",
       "  <thead>\n",
       "    <tr style=\"text-align: right;\">\n",
       "      <th></th>\n",
       "      <th>NU_NOTA_CN</th>\n",
       "      <th>NU_NOTA_CH</th>\n",
       "      <th>NU_NOTA_LC</th>\n",
       "      <th>NU_NOTA_MT</th>\n",
       "      <th>NU_NOTA_REDACAO</th>\n",
       "      <th>MEDIA_NOTAS</th>\n",
       "    </tr>\n",
       "    <tr>\n",
       "      <th>Q025</th>\n",
       "      <th></th>\n",
       "      <th></th>\n",
       "      <th></th>\n",
       "      <th></th>\n",
       "      <th></th>\n",
       "      <th></th>\n",
       "    </tr>\n",
       "  </thead>\n",
       "  <tbody>\n",
       "    <tr>\n",
       "      <th>A. Não</th>\n",
       "      <td>462.074232</td>\n",
       "      <td>484.176939</td>\n",
       "      <td>470.192708</td>\n",
       "      <td>478.427493</td>\n",
       "      <td>523.160928</td>\n",
       "      <td>483.606460</td>\n",
       "    </tr>\n",
       "    <tr>\n",
       "      <th>B. Sim</th>\n",
       "      <td>498.894619</td>\n",
       "      <td>530.765422</td>\n",
       "      <td>521.649582</td>\n",
       "      <td>548.113010</td>\n",
       "      <td>626.974636</td>\n",
       "      <td>545.279454</td>\n",
       "    </tr>\n",
       "  </tbody>\n",
       "</table>\n",
       "</div>"
      ],
      "text/plain": [
       "        NU_NOTA_CN  NU_NOTA_CH  NU_NOTA_LC  NU_NOTA_MT  NU_NOTA_REDACAO  \\\n",
       "Q025                                                                      \n",
       "A. Não  462.074232  484.176939  470.192708  478.427493       523.160928   \n",
       "B. Sim  498.894619  530.765422  521.649582  548.113010       626.974636   \n",
       "\n",
       "        MEDIA_NOTAS  \n",
       "Q025                 \n",
       "A. Não   483.606460  \n",
       "B. Sim   545.279454  "
      ]
     },
     "execution_count": 23,
     "metadata": {},
     "output_type": "execute_result"
    }
   ],
   "source": [
    "df_Q25 = df[['Q025', 'NU_NOTA_CN', 'NU_NOTA_CH', 'NU_NOTA_LC', 'NU_NOTA_MT', 'NU_NOTA_REDACAO']].groupby('Q025').mean()\n",
    "\n",
    "df_Q25['MEDIA_NOTAS'] = df_Q25[['NU_NOTA_CN', 'NU_NOTA_CH', 'NU_NOTA_LC', 'NU_NOTA_MT', 'NU_NOTA_REDACAO']].mean(axis=1)\n",
    "\n",
    "df_Q25"
   ]
  },
  {
   "cell_type": "code",
   "execution_count": 28,
   "metadata": {},
   "outputs": [
    {
     "data": {
      "image/png": "[encoded data removed]",
      "text/plain": [
       "<Figure size 720x432 with 1 Axes>"
      ]
     },
     "metadata": {
      "needs_background": "light"
     },
     "output_type": "display_data"
    }
   ],
   "source": [
    "import matplotlib.pyplot as plt\n",
    "\n",
    "transposed_df_Q25 = df_Q25.transpose()\n",
    "\n",
    "ax = transposed_df_Q25.plot.bar(rot=0, figsize=(10, 6))\n",
    "ax.set_xlabel('Possui Acesso à Internet')\n",
    "ax.set_ylabel('Pontuação Média')\n",
    "ax.set_title('Pontuações Médias por Acesso à Internet')\n",
    "\n",
    "ax.legend(loc='lower right', bbox_to_anchor=(1, 0))\n",
    "\n",
    "plt.tight_layout()\n",
    "plt.show()"
   ]
  }
 ],
 "metadata": {
  "kernelspec": {
   "display_name": "base",
   "language": "python",
   "name": "python3"
  },
  "language_info": {
   "codemirror_mode": {
    "name": "ipython",
    "version": 3
   },
   "file_extension": ".py",
   "mimetype": "text/x-python",
   "name": "python",
   "nbconvert_exporter": "python",
   "pygments_lexer": "ipython3",
   "version": "3.8.8"
  },
  "orig_nbformat": 4
 },
 "nbformat": 4,
 "nbformat_minor": 2
}
