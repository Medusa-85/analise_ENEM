{
 "cells": [
  {
   "cell_type": "code",
   "execution_count": 45,
   "metadata": {},
   "outputs": [
    {
     "name": "stdout",
     "output_type": "stream",
     "text": [
      "<class 'pandas.core.frame.DataFrame'>\n",
      "RangeIndex: 3476105 entries, 0 to 3476104\n",
      "Data columns (total 37 columns):\n",
      " #   Column                  Dtype  \n",
      "---  ------                  -----  \n",
      " 0   Unnamed: 0              int64  \n",
      " 1   NU_ANO                  int64  \n",
      " 2   TP_FAIXA_ETARIA         int64  \n",
      " 3   TP_SEXO                 object \n",
      " 4   TP_ESTADO_CIVIL         int64  \n",
      " 5   TP_COR_RACA             int64  \n",
      " 6   TP_NACIONALIDADE        int64  \n",
      " 7   TP_ST_CONCLUSAO         int64  \n",
      " 8   TP_ANO_CONCLUIU         int64  \n",
      " 9   TP_ESCOLA               int64  \n",
      " 10  IN_TREINEIRO            int64  \n",
      " 11  NO_MUNICIPIO_ESC        object \n",
      " 12  SG_UF_ESC               object \n",
      " 13  TP_DEPENDENCIA_ADM_ESC  float64\n",
      " 14  TP_LOCALIZACAO_ESC      float64\n",
      " 15  TP_PRESENCA_CN          int64  \n",
      " 16  TP_PRESENCA_CH          int64  \n",
      " 17  TP_PRESENCA_LC          int64  \n",
      " 18  TP_PRESENCA_MT          int64  \n",
      " 19  NU_NOTA_CN              float64\n",
      " 20  NU_NOTA_CH              float64\n",
      " 21  NU_NOTA_LC              float64\n",
      " 22  NU_NOTA_MT              float64\n",
      " 23  TP_STATUS_REDACAO       float64\n",
      " 24  NU_NOTA_REDACAO         float64\n",
      " 25  Q001                    object \n",
      " 26  Q002                    object \n",
      " 27  Q003                    object \n",
      " 28  Q004                    object \n",
      " 29  Q005                    int64  \n",
      " 30  Q006                    object \n",
      " 31  Q008                    object \n",
      " 32  Q010                    object \n",
      " 33  Q022                    object \n",
      " 34  Q024                    object \n",
      " 35  Q025                    object \n",
      " 36  MEDIA_GERAL             float64\n",
      "dtypes: float64(9), int64(15), object(13)\n",
      "memory usage: 981.3+ MB\n"
     ]
    }
   ],
   "source": [
    "import pandas as pd\n",
    "import numpy as np\n",
    "\n",
    "df = pd.read_csv(\"enem_2022_v2.csv\", low_memory=False, encoding=\"ISO-8859-1\")\n",
    "\n",
    "df.info(verbose=True)"
   ]
  },
  {
   "cell_type": "markdown",
   "metadata": {},
   "source": [
    "# Classificação de Cor/raça\n",
    "    0\tNão declarado\n",
    "\t1\tBranca\n",
    "\t2\tPreta\n",
    "\t3\tParda\n",
    "\t4\tAmarela\n",
    "\t5\tIndígena \n",
    "\t6\tNão dispõe da informação"
   ]
  },
  {
   "cell_type": "code",
   "execution_count": 48,
   "metadata": {},
   "outputs": [],
   "source": [
    "#Alteração dos dados de acordo com as colunas\n",
    "df['TP_COR_RACA'] = df['TP_COR_RACA'].apply(lambda x: '0. Não Declarado' if x == 0 else '1. Branca' if x == 1 else '2. Preta' if x == 2 else '3. Parda' if x == 3 else '4. Amarela' if x == 4 else '5. Indígena' if x == 5 else 'ND')"
   ]
  },
  {
   "cell_type": "code",
   "execution_count": 102,
   "metadata": {},
   "outputs": [
    {
     "data": {
      "text/html": [
       "<div>\n",
       "<style scoped>\n",
       "    .dataframe tbody tr th:only-of-type {\n",
       "        vertical-align: middle;\n",
       "    }\n",
       "\n",
       "    .dataframe tbody tr th {\n",
       "        vertical-align: top;\n",
       "    }\n",
       "\n",
       "    .dataframe thead th {\n",
       "        text-align: right;\n",
       "    }\n",
       "</style>\n",
       "<table border=\"1\" class=\"dataframe\">\n",
       "  <thead>\n",
       "    <tr style=\"text-align: right;\">\n",
       "      <th></th>\n",
       "      <th>NU_NOTA_CN</th>\n",
       "      <th>NU_NOTA_CH</th>\n",
       "      <th>NU_NOTA_LC</th>\n",
       "      <th>NU_NOTA_MT</th>\n",
       "      <th>NU_NOTA_REDACAO</th>\n",
       "    </tr>\n",
       "    <tr>\n",
       "      <th>TP_COR_RACA</th>\n",
       "      <th></th>\n",
       "      <th></th>\n",
       "      <th></th>\n",
       "      <th></th>\n",
       "      <th></th>\n",
       "    </tr>\n",
       "  </thead>\n",
       "  <tbody>\n",
       "    <tr>\n",
       "      <th>0. Não Declarado</th>\n",
       "      <td>495.246021</td>\n",
       "      <td>523.777832</td>\n",
       "      <td>512.195471</td>\n",
       "      <td>534.888183</td>\n",
       "      <td>586.579295</td>\n",
       "    </tr>\n",
       "    <tr>\n",
       "      <th>1. Branca</th>\n",
       "      <td>512.950734</td>\n",
       "      <td>546.591271</td>\n",
       "      <td>537.748498</td>\n",
       "      <td>573.453383</td>\n",
       "      <td>660.535442</td>\n",
       "    </tr>\n",
       "    <tr>\n",
       "      <th>2. Preta</th>\n",
       "      <td>478.125922</td>\n",
       "      <td>510.187491</td>\n",
       "      <td>501.776239</td>\n",
       "      <td>508.381718</td>\n",
       "      <td>577.025050</td>\n",
       "    </tr>\n",
       "    <tr>\n",
       "      <th>3. Parda</th>\n",
       "      <td>482.919747</td>\n",
       "      <td>511.643486</td>\n",
       "      <td>501.319936</td>\n",
       "      <td>519.587162</td>\n",
       "      <td>588.188293</td>\n",
       "    </tr>\n",
       "    <tr>\n",
       "      <th>4. Amarela</th>\n",
       "      <td>497.508988</td>\n",
       "      <td>521.846437</td>\n",
       "      <td>511.376112</td>\n",
       "      <td>545.351315</td>\n",
       "      <td>608.978576</td>\n",
       "    </tr>\n",
       "    <tr>\n",
       "      <th>5. Indígena</th>\n",
       "      <td>461.968371</td>\n",
       "      <td>481.539102</td>\n",
       "      <td>467.026552</td>\n",
       "      <td>479.831974</td>\n",
       "      <td>519.884346</td>\n",
       "    </tr>\n",
       "  </tbody>\n",
       "</table>\n",
       "</div>"
      ],
      "text/plain": [
       "                  NU_NOTA_CN  NU_NOTA_CH  NU_NOTA_LC  NU_NOTA_MT  \\\n",
       "TP_COR_RACA                                                        \n",
       "0. Não Declarado  495.246021  523.777832  512.195471  534.888183   \n",
       "1. Branca         512.950734  546.591271  537.748498  573.453383   \n",
       "2. Preta          478.125922  510.187491  501.776239  508.381718   \n",
       "3. Parda          482.919747  511.643486  501.319936  519.587162   \n",
       "4. Amarela        497.508988  521.846437  511.376112  545.351315   \n",
       "5. Indígena       461.968371  481.539102  467.026552  479.831974   \n",
       "\n",
       "                  NU_NOTA_REDACAO  \n",
       "TP_COR_RACA                        \n",
       "0. Não Declarado       586.579295  \n",
       "1. Branca              660.535442  \n",
       "2. Preta               577.025050  \n",
       "3. Parda               588.188293  \n",
       "4. Amarela             608.978576  \n",
       "5. Indígena            519.884346  "
      ]
     },
     "execution_count": 102,
     "metadata": {},
     "output_type": "execute_result"
    }
   ],
   "source": [
    "df_CR = df[['TP_COR_RACA', 'NU_NOTA_CN', 'NU_NOTA_CH', 'NU_NOTA_LC', 'NU_NOTA_MT', 'NU_NOTA_REDACAO']].groupby('TP_COR_RACA').mean()\n",
    "\n",
    "df_CR"
   ]
  },
  {
   "cell_type": "code",
   "execution_count": 103,
   "metadata": {},
   "outputs": [
    {
     "data": {
      "text/html": [
       "<div>\n",
       "<style scoped>\n",
       "    .dataframe tbody tr th:only-of-type {\n",
       "        vertical-align: middle;\n",
       "    }\n",
       "\n",
       "    .dataframe tbody tr th {\n",
       "        vertical-align: top;\n",
       "    }\n",
       "\n",
       "    .dataframe thead th {\n",
       "        text-align: right;\n",
       "    }\n",
       "</style>\n",
       "<table border=\"1\" class=\"dataframe\">\n",
       "  <thead>\n",
       "    <tr style=\"text-align: right;\">\n",
       "      <th></th>\n",
       "      <th>NU_NOTA_CN</th>\n",
       "      <th>NU_NOTA_CH</th>\n",
       "      <th>NU_NOTA_LC</th>\n",
       "      <th>NU_NOTA_MT</th>\n",
       "      <th>NU_NOTA_REDACAO</th>\n",
       "    </tr>\n",
       "    <tr>\n",
       "      <th>TP_COR_RACA</th>\n",
       "      <th></th>\n",
       "      <th></th>\n",
       "      <th></th>\n",
       "      <th></th>\n",
       "      <th></th>\n",
       "    </tr>\n",
       "  </thead>\n",
       "  <tbody>\n",
       "    <tr>\n",
       "      <th>0. Não Declarado</th>\n",
       "      <td>483.0</td>\n",
       "      <td>525.00</td>\n",
       "      <td>518.9</td>\n",
       "      <td>518.0</td>\n",
       "      <td>600.0</td>\n",
       "    </tr>\n",
       "    <tr>\n",
       "      <th>1. Branca</th>\n",
       "      <td>505.4</td>\n",
       "      <td>551.30</td>\n",
       "      <td>546.9</td>\n",
       "      <td>571.1</td>\n",
       "      <td>680.0</td>\n",
       "    </tr>\n",
       "    <tr>\n",
       "      <th>2. Preta</th>\n",
       "      <td>469.3</td>\n",
       "      <td>513.80</td>\n",
       "      <td>509.4</td>\n",
       "      <td>493.9</td>\n",
       "      <td>600.0</td>\n",
       "    </tr>\n",
       "    <tr>\n",
       "      <th>3. Parda</th>\n",
       "      <td>472.9</td>\n",
       "      <td>513.60</td>\n",
       "      <td>507.8</td>\n",
       "      <td>504.4</td>\n",
       "      <td>600.0</td>\n",
       "    </tr>\n",
       "    <tr>\n",
       "      <th>4. Amarela</th>\n",
       "      <td>483.8</td>\n",
       "      <td>522.10</td>\n",
       "      <td>517.0</td>\n",
       "      <td>525.9</td>\n",
       "      <td>620.0</td>\n",
       "    </tr>\n",
       "    <tr>\n",
       "      <th>5. Indígena</th>\n",
       "      <td>452.5</td>\n",
       "      <td>483.95</td>\n",
       "      <td>469.2</td>\n",
       "      <td>461.3</td>\n",
       "      <td>560.0</td>\n",
       "    </tr>\n",
       "  </tbody>\n",
       "</table>\n",
       "</div>"
      ],
      "text/plain": [
       "                  NU_NOTA_CN  NU_NOTA_CH  NU_NOTA_LC  NU_NOTA_MT  \\\n",
       "TP_COR_RACA                                                        \n",
       "0. Não Declarado       483.0      525.00       518.9       518.0   \n",
       "1. Branca              505.4      551.30       546.9       571.1   \n",
       "2. Preta               469.3      513.80       509.4       493.9   \n",
       "3. Parda               472.9      513.60       507.8       504.4   \n",
       "4. Amarela             483.8      522.10       517.0       525.9   \n",
       "5. Indígena            452.5      483.95       469.2       461.3   \n",
       "\n",
       "                  NU_NOTA_REDACAO  \n",
       "TP_COR_RACA                        \n",
       "0. Não Declarado            600.0  \n",
       "1. Branca                   680.0  \n",
       "2. Preta                    600.0  \n",
       "3. Parda                    600.0  \n",
       "4. Amarela                  620.0  \n",
       "5. Indígena                 560.0  "
      ]
     },
     "execution_count": 103,
     "metadata": {},
     "output_type": "execute_result"
    }
   ],
   "source": [
    "df_CR = df[['TP_COR_RACA', 'NU_NOTA_CN', 'NU_NOTA_CH', 'NU_NOTA_LC', 'NU_NOTA_MT', 'NU_NOTA_REDACAO']].groupby('TP_COR_RACA').median()\n",
    "\n",
    "df_CR"
   ]
  },
  {
   "cell_type": "code",
   "execution_count": 74,
   "metadata": {},
   "outputs": [
    {
     "data": {
      "image/png": "[encoded data removed]",
      "text/plain": [
       "<Figure size 720x432 with 1 Axes>"
      ]
     },
     "metadata": {
      "needs_background": "light"
     },
     "output_type": "display_data"
    }
   ],
   "source": [
    "import matplotlib.pyplot as plt\n",
    "\n",
    "ax = df_CR.plot.bar(rot=0, figsize=(10, 6))\n",
    "ax.set_xlabel('Auto-declaração de Cor/Raça')\n",
    "ax.set_ylabel('Pontuação Média')\n",
    "ax.set_title('Pontuações Médias por Cor/Raça')\n",
    "\n",
    "ax.legend(loc='lower right', bbox_to_anchor=(1.3, 0))\n",
    "\n",
    "plt.tight_layout()\n",
    "plt.show()"
   ]
  },
  {
   "cell_type": "code",
   "execution_count": 126,
   "metadata": {},
   "outputs": [
    {
     "data": {
      "image/png": "[encoded data removed]",
      "text/plain": [
       "<Figure size 720x432 with 1 Axes>"
      ]
     },
     "metadata": {
      "needs_background": "light"
     },
     "output_type": "display_data"
    }
   ],
   "source": [
    "df_CR['MEDIA_NOTAS'] = df_CR[['NU_NOTA_CN', 'NU_NOTA_CH', 'NU_NOTA_LC', 'NU_NOTA_MT', 'NU_NOTA_REDACAO']].mean(axis=1)\n",
    "\n",
    "df_CR = df_CR.sort_values(by = 'MEDIA_NOTAS', ascending = False)\n",
    "\n",
    "ax = df_CR['MEDIA_NOTAS'].plot.bar(rot=0, figsize=(10, 6))\n",
    "ax.set_xlabel('Auto-declaração de Cor/Raça')\n",
    "ax.set_ylabel('Pontuação Média')\n",
    "ax.set_title('Pontuações Médias por Cor/Raça')\n",
    "\n",
    "for bar in ax.patches:\n",
    "    yval = bar.get_height()\n",
    "    plt.text(bar.get_x() + bar.get_width()/2, yval + 5, round(yval, 2), ha='center', va='bottom', color='black', fontweight='bold')\n",
    "\n",
    "plt.tight_layout()\n",
    "plt.show()\n"
   ]
  },
  {
   "cell_type": "code",
   "execution_count": 152,
   "metadata": {},
   "outputs": [
    {
     "data": {
      "image/png": "[encoded data removed]",
      "text/plain": [
       "<Figure size 432x288 with 1 Axes>"
      ]
     },
     "metadata": {},
     "output_type": "display_data"
    }
   ],
   "source": [
    "df_CR_count = df[['TP_COR_RACA', 'NU_NOTA_REDACAO']].groupby('TP_COR_RACA').count()\n",
    "\n",
    "fig, ax = plt.subplots()\n",
    "ax.pie(df_CR_count['NU_NOTA_REDACAO'], autopct='%d%%', startangle=90, pctdistance=0.7)\n",
    "ax.axis('equal')\n",
    "\n",
    "plt.title('Distribuição por Cor/Raça')\n",
    "\n",
    "ax.legend(df_CR_count.index, title='Categorias', loc='center left', bbox_to_anchor=(0.8, 0.5))\n",
    "\n",
    "plt.show()"
   ]
  },
  {
   "cell_type": "code",
   "execution_count": 161,
   "metadata": {},
   "outputs": [
    {
     "data": {
      "text/html": [
       "<div>\n",
       "<style scoped>\n",
       "    .dataframe tbody tr th:only-of-type {\n",
       "        vertical-align: middle;\n",
       "    }\n",
       "\n",
       "    .dataframe tbody tr th {\n",
       "        vertical-align: top;\n",
       "    }\n",
       "\n",
       "    .dataframe thead th {\n",
       "        text-align: right;\n",
       "    }\n",
       "</style>\n",
       "<table border=\"1\" class=\"dataframe\">\n",
       "  <thead>\n",
       "    <tr style=\"text-align: right;\">\n",
       "      <th></th>\n",
       "      <th>PRESENTES_REDACAO</th>\n",
       "      <th>PERCENTUAL</th>\n",
       "    </tr>\n",
       "    <tr>\n",
       "      <th>TP_COR_RACA</th>\n",
       "      <th></th>\n",
       "      <th></th>\n",
       "    </tr>\n",
       "  </thead>\n",
       "  <tbody>\n",
       "    <tr>\n",
       "      <th>0. Não Declarado</th>\n",
       "      <td>43874</td>\n",
       "      <td>1.759576</td>\n",
       "    </tr>\n",
       "    <tr>\n",
       "      <th>1. Branca</th>\n",
       "      <td>1085458</td>\n",
       "      <td>43.532514</td>\n",
       "    </tr>\n",
       "    <tr>\n",
       "      <th>2. Preta</th>\n",
       "      <td>274129</td>\n",
       "      <td>10.993999</td>\n",
       "    </tr>\n",
       "    <tr>\n",
       "      <th>3. Parda</th>\n",
       "      <td>1031072</td>\n",
       "      <td>41.351353</td>\n",
       "    </tr>\n",
       "    <tr>\n",
       "      <th>4. Amarela</th>\n",
       "      <td>46631</td>\n",
       "      <td>1.870146</td>\n",
       "    </tr>\n",
       "    <tr>\n",
       "      <th>5. Indígena</th>\n",
       "      <td>12278</td>\n",
       "      <td>0.492412</td>\n",
       "    </tr>\n",
       "  </tbody>\n",
       "</table>\n",
       "</div>"
      ],
      "text/plain": [
       "                  PRESENTES_REDACAO  PERCENTUAL\n",
       "TP_COR_RACA                                    \n",
       "0. Não Declarado              43874    1.759576\n",
       "1. Branca                   1085458   43.532514\n",
       "2. Preta                     274129   10.993999\n",
       "3. Parda                    1031072   41.351353\n",
       "4. Amarela                    46631    1.870146\n",
       "5. Indígena                   12278    0.492412"
      ]
     },
     "execution_count": 161,
     "metadata": {},
     "output_type": "execute_result"
    }
   ],
   "source": [
    "df_CR_count.rename(columns={'NU_NOTA_REDACAO': 'PRESENTES_REDACAO'}, inplace=True)\n",
    "\n",
    "df_CR_count['PERCENTUAL'] = (df_CR_count['PRESENTES_REDACAO'] / df_CR_count['PRESENTES_REDACAO'].sum()) * 100\n",
    "\n",
    "df_CR_count"
   ]
  },
  {
   "cell_type": "markdown",
   "metadata": {},
   "source": [
    "Distribuições semelhantes à autodeclaração geral no Brasil no IBGE:\n",
    "https://educa.ibge.gov.br/jovens/conheca-o-brasil/populacao/18319-cor-ou-raca.html"
   ]
  }
 ],
 "metadata": {
  "kernelspec": {
   "display_name": "Python 3",
   "language": "python",
   "name": "python3"
  },
  "language_info": {
   "codemirror_mode": {
    "name": "ipython",
    "version": 3
   },
   "file_extension": ".py",
   "mimetype": "text/x-python",
   "name": "python",
   "nbconvert_exporter": "python",
   "pygments_lexer": "ipython3",
   "version": "3.8.8"
  },
  "orig_nbformat": 4
 },
 "nbformat": 4,
 "nbformat_minor": 2
}
